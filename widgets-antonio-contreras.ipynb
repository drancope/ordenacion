{
 "cells": [
  {
   "cell_type": "code",
   "execution_count": 1,
   "id": "267d1097",
   "metadata": {},
   "outputs": [],
   "source": [
    "import ipywidgets as widgets\n",
    "#from IPython.display import display \n",
    "\n",
    "numero = widgets.IntText(\n",
    "    value=7,\n",
    "    description='Escribe un número y pulsa \"aceptar\":',\n",
    "    disabled=False\n",
    ")\n",
    "n = []\n",
    "boton = widgets.Button(description=\"aceptar\")\n",
    "\n",
    "# funciones reutilizables\n",
    "def swap(i):\n",
    "    global n\n",
    "    a= n[i]\n",
    "    n[i] = n[i+1]\n",
    "    n[i+1] = a\n",
    "\n",
    "def dar_ok(parametro):\n",
    "    global n\n",
    "    n.append(numero.value)\n",
    "\n",
    "boton.on_click(dar_ok)\n"
   ]
  },
  {
   "cell_type": "code",
   "execution_count": 3,
   "id": "57439e69",
   "metadata": {},
   "outputs": [
    {
     "data": {
      "application/vnd.jupyter.widget-view+json": {
       "model_id": "8c194ea7fb264d89bc2f46c31755199f",
       "version_major": 2,
       "version_minor": 0
      },
      "text/plain": [
       "IntText(value=7, description='Escribe un número y pulsa \"aceptar\":')"
      ]
     },
     "metadata": {},
     "output_type": "display_data"
    },
    {
     "data": {
      "application/vnd.jupyter.widget-view+json": {
       "model_id": "19531dfc9428439a878ab5e7be5907af",
       "version_major": 2,
       "version_minor": 0
      },
      "text/plain": [
       "Button(description='aceptar', style=ButtonStyle())"
      ]
     },
     "metadata": {},
     "output_type": "display_data"
    },
    {
     "name": "stdout",
     "output_type": "stream",
     "text": [
      "[]\n"
     ]
    }
   ],
   "source": [
    "# Toma de datos\n",
    "display(numero, boton)\n",
    "\n",
    "print(n)"
   ]
  },
  {
   "cell_type": "code",
   "execution_count": 5,
   "id": "3478b517",
   "metadata": {},
   "outputs": [
    {
     "name": "stdout",
     "output_type": "stream",
     "text": [
      "4      [7, 9, 5, 3]\n"
     ]
    }
   ],
   "source": [
    "print(len(n), \"    \", n)"
   ]
  },
  {
   "cell_type": "code",
   "execution_count": 7,
   "id": "439514af",
   "metadata": {},
   "outputs": [
    {
     "name": "stdout",
     "output_type": "stream",
     "text": [
      "[3, 5, 7, 9]\n",
      "Número de intercambios:  5  en  9  bucles\n"
     ]
    }
   ],
   "source": [
    "contador = 0\n",
    "bucles = 0\n",
    "for i in range(len(n)-1):\n",
    "    yaEsta = 0\n",
    "    for j in range(len(n)-1):\n",
    "        bucles = bucles +1\n",
    "        if (n[j] > n[j+1]):\n",
    "            swap(j)\n",
    "            yaEsta = 1\n",
    "            contador = contador +1\n",
    "    if yaEsta == 0:\n",
    "        break\n",
    "\n",
    "print(n)\n",
    "print(\"Número de intercambios: \", contador, \" en \", bucles, \" bucles\")"
   ]
  },
  {
   "cell_type": "code",
   "execution_count": 9,
   "id": "44eb9838",
   "metadata": {},
   "outputs": [],
   "source": [
    "## RESET n\n",
    "n = [45, 32, 42, 61, 11, 6, 8, 2, 1, 76, 86, 45]"
   ]
  },
  {
   "cell_type": "code",
   "execution_count": 1,
   "id": "c444dbcb",
   "metadata": {},
   "outputs": [
    {
     "name": "stdout",
     "output_type": "stream",
     "text": [
      "pygame 2.5.2 (SDL 2.28.2, Python 3.11.0)\n",
      "Hello from the pygame community. https://www.pygame.org/contribute.html\n",
      "añadido 8\n",
      "añadido 10\n",
      "añadido 7\n",
      "añadido 1\n",
      "[7, 1, 8, 10]\n",
      "[1, 7, 8, 10]\n",
      "Saliendo\n"
     ]
    }
   ],
   "source": [
    "import pygame\n",
    "import pygame_widgets\n",
    "from pygame_widgets.button import Button\n",
    "from pygame_widgets.textbox import TextBox\n",
    "\n",
    "def salir():\n",
    "    global run\n",
    "    print(\"Saliendo\")\n",
    "    run = False\n",
    "\n",
    "def swap(ind):\n",
    "    a = n[ind]\n",
    "    n[ind] = n[ind+1]\n",
    "    n[ind+1] = a\n",
    "\n",
    "def ordenar():\n",
    "    global contador\n",
    "    global n\n",
    "    for i in range(len(n)-1):\n",
    "        for j in range(len(n)-1):\n",
    "            if n[j]>n[j+1]:\n",
    "                swap(j)\n",
    "                contador +=1\n",
    "    print(n)\n",
    "\n",
    "def agregar():\n",
    "    # Get text in the textbox\n",
    "    n.append(int(tNumero.getText()))\n",
    "    print(\"añadido\", tNumero.getText())\n",
    "\n",
    "contador = 0\n",
    "n = []\n",
    "pygame.init()\n",
    "win = pygame.display.set_mode((600, 600))\n",
    "bAgregar = Button(win, 10, 10, 300, 150, text=\"Agregar\", onClick=lambda: agregar())\n",
    "tNumero = TextBox(win, 330, 10, 300, 150 )\n",
    "bTerminar = Button(win, 10, 170, 300, 150, text=\"Terminar\", onClick=lambda: salir())\n",
    "bOrdenar = Button(win, 330, 170, 300, 150, text=\"Ordenar\", onClick=lambda: ordenar())\n",
    "\n",
    "run = True\n",
    "while run:\n",
    "    events = pygame.event.get()\n",
    "    for event in events:\n",
    "        if event.type == pygame.QUIT:\n",
    "            run = False\n",
    "\n",
    "    win.fill((255, 255, 255))\n",
    "    pygame_widgets.update(events)\n",
    "    pygame.display.update()\n",
    "    \n",
    "pygame.display.quit()\n",
    "pygame.quit()"
   ]
  },
  {
   "cell_type": "code",
   "execution_count": 14,
   "id": "c5e5d3ed-2031-4a10-9d0b-c28b116890f9",
   "metadata": {},
   "outputs": [
    {
     "name": "stdout",
     "output_type": "stream",
     "text": [
      "['__annotations__', '__builtins__', '__call__', '__class__', '__closure__', '__code__', '__defaults__', '__delattr__', '__dict__', '__dir__', '__doc__', '__eq__', '__format__', '__ge__', '__get__', '__getattribute__', '__getstate__', '__globals__', '__gt__', '__hash__', '__init__', '__init_subclass__', '__kwdefaults__', '__le__', '__lt__', '__module__', '__name__', '__ne__', '__new__', '__qualname__', '__reduce__', '__reduce_ex__', '__repr__', '__setattr__', '__sizeof__', '__str__', '__subclasshook__']\n",
      "<function update at 0x70fc8f02f6a0>\n"
     ]
    }
   ],
   "source": [
    "import pygame_widgets\n",
    "print(dir(pygame_widgets.update))\n",
    "print(pygame_widgets.update)"
   ]
  },
  {
   "cell_type": "code",
   "execution_count": 7,
   "id": "893061dd-9eb0-48d5-af0e-4180d7ca0afd",
   "metadata": {},
   "outputs": [
    {
     "name": "stdout",
     "output_type": "stream",
     "text": [
      "[3, 6, 6, 311]\n"
     ]
    }
   ],
   "source": [
    "print(n)"
   ]
  },
  {
   "cell_type": "code",
   "execution_count": null,
   "id": "9ffbeb82-1d67-4723-ba50-ba0f057da627",
   "metadata": {},
   "outputs": [
    {
     "name": "stdout",
     "output_type": "stream",
     "text": [
      "pygame 2.5.2 (SDL 2.28.2, Python 3.11.0)\n",
      "Hello from the pygame community. https://www.pygame.org/contribute.html\n"
     ]
    },
    {
     "ename": "error",
     "evalue": "display Surface quit",
     "output_type": "error",
     "traceback": [
      "\u001b[0;31m---------------------------------------------------------------------------\u001b[0m",
      "\u001b[0;31merror\u001b[0m                                     Traceback (most recent call last)",
      "Cell \u001b[0;32mIn[1], line 23\u001b[0m\n\u001b[1;32m     20\u001b[0m         run \u001b[38;5;241m=\u001b[39m \u001b[38;5;28;01mFalse\u001b[39;00m\n\u001b[1;32m     21\u001b[0m         quit()\n\u001b[0;32m---> 23\u001b[0m \u001b[43mwin\u001b[49m\u001b[38;5;241;43m.\u001b[39;49m\u001b[43mfill\u001b[49m\u001b[43m(\u001b[49m\u001b[43m(\u001b[49m\u001b[38;5;241;43m255\u001b[39;49m\u001b[43m,\u001b[49m\u001b[43m \u001b[49m\u001b[38;5;241;43m255\u001b[39;49m\u001b[43m,\u001b[49m\u001b[43m \u001b[49m\u001b[38;5;241;43m255\u001b[39;49m\u001b[43m)\u001b[49m\u001b[43m)\u001b[49m\n\u001b[1;32m     25\u001b[0m output\u001b[38;5;241m.\u001b[39msetText(slider\u001b[38;5;241m.\u001b[39mgetValue())\n\u001b[1;32m     27\u001b[0m pygame_widgets\u001b[38;5;241m.\u001b[39mupdate(events)\n",
      "\u001b[0;31merror\u001b[0m: display Surface quit"
     ]
    },
    {
     "ename": "",
     "evalue": "",
     "output_type": "error",
     "traceback": [
      "\u001b[1;31mThe Kernel crashed while executing code in the current cell or a previous cell. \n",
      "\u001b[1;31mPlease review the code in the cell(s) to identify a possible cause of the failure. \n",
      "\u001b[1;31mClick <a href='https://aka.ms/vscodeJupyterKernelCrash'>here</a> for more info. \n",
      "\u001b[1;31mView Jupyter <a href='command:jupyter.viewOutput'>log</a> for further details."
     ]
    }
   ],
   "source": [
    "import pygame_widgets\n",
    "import pygame\n",
    "from pygame_widgets.slider import Slider\n",
    "from pygame_widgets.textbox import TextBox\n",
    "\n",
    "pygame.init()\n",
    "win = pygame.display.set_mode((1000, 600))\n",
    "\n",
    "slider = Slider(win, 100, 100, 800, 40, min=0, max=99, step=1)\n",
    "output = TextBox(win, 475, 200, 50, 50, fontSize=30)\n",
    "\n",
    "output.disable()  # Act as label instead of textbox\n",
    "\n",
    "run = True\n",
    "while run:\n",
    "    events = pygame.event.get()\n",
    "    for event in events:\n",
    "        if event.type == pygame.QUIT:\n",
    "            pygame.quit()\n",
    "            run = False\n",
    "            quit()\n",
    "\n",
    "    win.fill((255, 255, 255))\n",
    "\n",
    "    output.setText(slider.getValue())\n",
    "\n",
    "    pygame_widgets.update(events)\n",
    "    pygame.display.update()"
   ]
  }
 ],
 "metadata": {
  "kernelspec": {
   "display_name": "base",
   "language": "python",
   "name": "python3"
  },
  "language_info": {
   "codemirror_mode": {
    "name": "ipython",
    "version": 3
   },
   "file_extension": ".py",
   "mimetype": "text/x-python",
   "name": "python",
   "nbconvert_exporter": "python",
   "pygments_lexer": "ipython3",
   "version": "3.11.0"
  }
 },
 "nbformat": 4,
 "nbformat_minor": 5
}
