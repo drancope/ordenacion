{
 "cells": [
  {
   "cell_type": "code",
   "execution_count": null,
   "id": "267d1097",
   "metadata": {},
   "outputs": [],
   "source": [
    "import ipywidgets as widgets\n",
    "#from IPython.display import display \n",
    "\n",
    "numero = widgets.IntText(\n",
    "    value=7,\n",
    "    description='Escribe un número y pulsa \"aceptar\":',\n",
    "    disabled=False\n",
    ")\n",
    "n = []\n",
    "boton = widgets.Button(description=\"aceptar\")\n",
    "\n",
    "# funciones reutilizables\n",
    "def swap(i):\n",
    "    global n\n",
    "    a= n[i]\n",
    "    n[i] = n[i+1]\n",
    "    n[i+1] = a\n",
    "\n",
    "def dar_ok(parametro):\n",
    "    global n\n",
    "    n.append(numero.value)\n",
    "\n",
    "boton.on_click(dar_ok)\n"
   ]
  },
  {
   "cell_type": "code",
   "execution_count": 51,
   "id": "57439e69",
   "metadata": {},
   "outputs": [
    {
     "data": {
      "application/vnd.jupyter.widget-view+json": {
       "model_id": "50d04c0ef0ec42da92feb5d20b533008",
       "version_major": 2,
       "version_minor": 0
      },
      "text/plain": [
       "IntText(value=7, description='Any:')"
      ]
     },
     "metadata": {},
     "output_type": "display_data"
    },
    {
     "data": {
      "application/vnd.jupyter.widget-view+json": {
       "model_id": "5774cca798b24571847e40879389c178",
       "version_major": 2,
       "version_minor": 0
      },
      "text/plain": [
       "Button(description='aceptar', style=ButtonStyle())"
      ]
     },
     "metadata": {},
     "output_type": "display_data"
    },
    {
     "name": "stdout",
     "output_type": "stream",
     "text": [
      "[]\n"
     ]
    }
   ],
   "source": [
    "# Toma de datos\n",
    "display(numero, boton)\n",
    "\n",
    "print(n)"
   ]
  },
  {
   "cell_type": "code",
   "execution_count": 52,
   "id": "3478b517",
   "metadata": {},
   "outputs": [
    {
     "name": "stdout",
     "output_type": "stream",
     "text": [
      "5      [7, 34, 18, 11, 5]\n"
     ]
    }
   ],
   "source": [
    "print(len(n), \"    \", n)"
   ]
  },
  {
   "cell_type": "code",
   "execution_count": null,
   "id": "439514af",
   "metadata": {},
   "outputs": [
    {
     "name": "stdout",
     "output_type": "stream",
     "text": [
      "[1, 2, 6, 8, 11, 32, 42, 45, 45, 61, 76, 86]\n",
      "Número de intercambios:  34  en  99  bucles\n"
     ]
    }
   ],
   "source": [
    "contador = 0\n",
    "bucles = 0\n",
    "for i in range(len(n)-1):\n",
    "    yaEsta = 0\n",
    "    for j in range(len(n)-1):\n",
    "        bucles = bucles +1\n",
    "        if (n[j] > n[j+1]):\n",
    "            swap(j)\n",
    "            yaEsta = 1\n",
    "            contador = contador +1\n",
    "    if yaEsta == 0:\n",
    "        break\n",
    "if yaEsta == 0:\n",
    "    break\n",
    "\n",
    "print(n)\n",
    "print(\"Número de intercambios: \", contador, \" en \", bucles, \" bucles\")"
   ]
  },
  {
   "cell_type": "code",
   "execution_count": 63,
   "id": "44eb9838",
   "metadata": {},
   "outputs": [],
   "source": [
    "## RESET n\n",
    "n = [45, 32, 42, 61, 11, 6, 8, 2, 1, 76, 86, 45]"
   ]
  }
 ],
 "metadata": {
  "kernelspec": {
   "display_name": "python2",
   "language": "python",
   "name": "python3"
  },
  "language_info": {
   "codemirror_mode": {
    "name": "ipython",
    "version": 3
   },
   "file_extension": ".py",
   "mimetype": "text/x-python",
   "name": "python",
   "nbconvert_exporter": "python",
   "pygments_lexer": "ipython3",
   "version": "3.8.20"
  }
 },
 "nbformat": 4,
 "nbformat_minor": 5
}
