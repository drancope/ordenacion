{
 "cells": [
  {
   "cell_type": "code",
   "execution_count": 33,
   "id": "267d1097",
   "metadata": {},
   "outputs": [],
   "source": [
    "import ipywidgets as widgets\n",
    "#from IPython.display import display \n",
    "\n",
    "numero = widgets.IntText(\n",
    "    value=7,\n",
    "    description='Any:',\n",
    "    disabled=False\n",
    ")\n",
    "n = []\n",
    "boton = widgets.Button(description=\"aceptar\")\n",
    "\n",
    "# funciones reutilizables\n",
    "def swap(n):\n",
    "    a= n[0]\n",
    "    n[0] = n[1]\n",
    "    n[1] = a\n",
    "    return n\n",
    "\n",
    "\n",
    "def dar_ok(parametro):\n",
    "    global n\n",
    "    n.append(numero.value)\n",
    "\n",
    "boton.on_click(dar_ok)\n"
   ]
  },
  {
   "cell_type": "code",
   "execution_count": 34,
   "id": "57439e69",
   "metadata": {},
   "outputs": [
    {
     "data": {
      "application/vnd.jupyter.widget-view+json": {
       "model_id": "ce2ba4fde9124e3fb27ee4dfc63230c4",
       "version_major": 2,
       "version_minor": 0
      },
      "text/plain": [
       "IntText(value=7, description='Any:')"
      ]
     },
     "metadata": {},
     "output_type": "display_data"
    },
    {
     "data": {
      "application/vnd.jupyter.widget-view+json": {
       "model_id": "e439f698941045bfa46c9f2ae46cd468",
       "version_major": 2,
       "version_minor": 0
      },
      "text/plain": [
       "Button(description='aceptar', style=ButtonStyle())"
      ]
     },
     "metadata": {},
     "output_type": "display_data"
    },
    {
     "name": "stdout",
     "output_type": "stream",
     "text": [
      "[]\n"
     ]
    }
   ],
   "source": [
    "# Toma de datos\n",
    "display(numero, boton)\n",
    "\n",
    "print(n)"
   ]
  },
  {
   "cell_type": "code",
   "execution_count": 44,
   "id": "3478b517",
   "metadata": {},
   "outputs": [
    {
     "name": "stdout",
     "output_type": "stream",
     "text": [
      "11      [8, 5, 6, 4, 2, 12, 10, 7, 71, 11, 3]\n"
     ]
    }
   ],
   "source": [
    "print(len(n), \"    \", n)"
   ]
  },
  {
   "cell_type": "code",
   "execution_count": 46,
   "id": "439514af",
   "metadata": {},
   "outputs": [
    {
     "name": "stdout",
     "output_type": "stream",
     "text": [
      "[2, 3, 4, 5, 6, 7, 8, 10, 11, 12, 71]\n"
     ]
    }
   ],
   "source": [
    "for i in range(len(n)-1):\n",
    "    yaEsta = 0\n",
    "    for j in range(len(n)-1):\n",
    "        if (n[j] > n[j+1]):\n",
    "            s = swap([n[j], n[j+1]])\n",
    "            n[j] = s[0]\n",
    "            n[j+1] = s[1]\n",
    "            yaEsta = 1\n",
    "    if yaEsta == 0:\n",
    "        break\n",
    "\n",
    "print(n)"
   ]
  },
  {
   "cell_type": "code",
   "execution_count": 42,
   "id": "44eb9838",
   "metadata": {},
   "outputs": [],
   "source": [
    "## RESET n\n",
    "n = []"
   ]
  }
 ],
 "metadata": {
  "kernelspec": {
   "display_name": "python2",
   "language": "python",
   "name": "python3"
  },
  "language_info": {
   "codemirror_mode": {
    "name": "ipython",
    "version": 3
   },
   "file_extension": ".py",
   "mimetype": "text/x-python",
   "name": "python",
   "nbconvert_exporter": "python",
   "pygments_lexer": "ipython3",
   "version": "3.8.20"
  }
 },
 "nbformat": 4,
 "nbformat_minor": 5
}
