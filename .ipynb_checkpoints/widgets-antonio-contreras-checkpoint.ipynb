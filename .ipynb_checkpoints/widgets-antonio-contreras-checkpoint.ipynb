{
 "cells": [
  {
   "cell_type": "code",
   "execution_count": 1,
   "id": "267d1097",
   "metadata": {},
   "outputs": [],
   "source": [
    "import ipywidgets as widgets\n",
    "#from IPython.display import display \n",
    "\n",
    "numero = widgets.IntText(\n",
    "    value=7,\n",
    "    description='Escribe un número y pulsa \"aceptar\":',\n",
    "    disabled=False\n",
    ")\n",
    "n = []\n",
    "boton = widgets.Button(description=\"aceptar\")\n",
    "\n",
    "# funciones reutilizables\n",
    "def swap(i):\n",
    "    global n\n",
    "    a= n[i]\n",
    "    n[i] = n[i+1]\n",
    "    n[i+1] = a\n",
    "\n",
    "def dar_ok(parametro):\n",
    "    global n\n",
    "    n.append(numero.value)\n",
    "\n",
    "boton.on_click(dar_ok)\n"
   ]
  },
  {
   "cell_type": "code",
   "execution_count": 3,
   "id": "57439e69",
   "metadata": {},
   "outputs": [
    {
     "data": {
      "application/vnd.jupyter.widget-view+json": {
       "model_id": "8c194ea7fb264d89bc2f46c31755199f",
       "version_major": 2,
       "version_minor": 0
      },
      "text/plain": [
       "IntText(value=7, description='Escribe un número y pulsa \"aceptar\":')"
      ]
     },
     "metadata": {},
     "output_type": "display_data"
    },
    {
     "data": {
      "application/vnd.jupyter.widget-view+json": {
       "model_id": "19531dfc9428439a878ab5e7be5907af",
       "version_major": 2,
       "version_minor": 0
      },
      "text/plain": [
       "Button(description='aceptar', style=ButtonStyle())"
      ]
     },
     "metadata": {},
     "output_type": "display_data"
    },
    {
     "name": "stdout",
     "output_type": "stream",
     "text": [
      "[]\n"
     ]
    }
   ],
   "source": [
    "# Toma de datos\n",
    "display(numero, boton)\n",
    "\n",
    "print(n)"
   ]
  },
  {
   "cell_type": "code",
   "execution_count": 5,
   "id": "3478b517",
   "metadata": {},
   "outputs": [
    {
     "name": "stdout",
     "output_type": "stream",
     "text": [
      "4      [7, 9, 5, 3]\n"
     ]
    }
   ],
   "source": [
    "print(len(n), \"    \", n)"
   ]
  },
  {
   "cell_type": "code",
   "execution_count": 7,
   "id": "439514af",
   "metadata": {},
   "outputs": [
    {
     "name": "stdout",
     "output_type": "stream",
     "text": [
      "[3, 5, 7, 9]\n",
      "Número de intercambios:  5  en  9  bucles\n"
     ]
    }
   ],
   "source": [
    "contador = 0\n",
    "bucles = 0\n",
    "for i in range(len(n)-1):\n",
    "    yaEsta = 0\n",
    "    for j in range(len(n)-1):\n",
    "        bucles = bucles +1\n",
    "        if (n[j] > n[j+1]):\n",
    "            swap(j)\n",
    "            yaEsta = 1\n",
    "            contador = contador +1\n",
    "    if yaEsta == 0:\n",
    "        break\n",
    "\n",
    "print(n)\n",
    "print(\"Número de intercambios: \", contador, \" en \", bucles, \" bucles\")"
   ]
  },
  {
   "cell_type": "code",
   "execution_count": 9,
   "id": "44eb9838",
   "metadata": {},
   "outputs": [],
   "source": [
    "## RESET n\n",
    "n = [45, 32, 42, 61, 11, 6, 8, 2, 1, 76, 86, 45]"
   ]
  },
  {
   "cell_type": "code",
   "execution_count": 1,
   "id": "c444dbcb",
   "metadata": {},
   "outputs": [
    {
     "name": "stdout",
     "output_type": "stream",
     "text": [
      "pygame 2.5.2 (SDL 2.28.2, Python 3.11.0)\n",
      "Hello from the pygame community. https://www.pygame.org/contribute.html\n",
      "añadido 3\n",
      "añadido 5\n",
      "añadido 1\n",
      "Saliendo\n"
     ]
    }
   ],
   "source": [
    "import pygame\n",
    "import pygame_widgets\n",
    "from pygame_widgets.button import Button\n",
    "from pygame_widgets.textbox import TextBox\n",
    "\n",
    "def salir():\n",
    "    global run\n",
    "    print(\"Saliendo\")\n",
    "    run = False\n",
    "\n",
    "def swap(ind):\n",
    "    a = n[ind]\n",
    "    n[ind] = n[ind+1]\n",
    "    n[ind+1] = a\n",
    "\n",
    "def ordenar():\n",
    "    global contador\n",
    "    global n\n",
    "    for i in range(len(n)-2):\n",
    "        for j in range(len(n)-1):\n",
    "            if n[j]>n[j+1]:\n",
    "                swap(j)\n",
    "                contador +=1\n",
    "\n",
    "def agregar():\n",
    "    # Get text in the textbox\n",
    "    n.append(int(tNumero.getText()))\n",
    "    print(\"añadido\", tNumero.getText())\n",
    "\n",
    "contador = 0\n",
    "n = []\n",
    "pygame.init()\n",
    "win = pygame.display.set_mode((600, 600))\n",
    "bAgregar = Button(win, 10, 10, 300, 150, text=\"Agregar\", onClick=lambda: agregar())\n",
    "tNumero = TextBox(win, 330, 10, 300, 150 )\n",
    "bTerminar = Button(win, 10, 170, 300, 150, text=\"Terminar\", onClick=lambda: salir())\n",
    "bOrdenar = Button(win, 330, 170, 300, 150, text=\"Ordenar\", onClick=lambda: ordenar())\n",
    "\n",
    "run = True\n",
    "while run:\n",
    "    events = pygame.event.get()\n",
    "    for event in events:\n",
    "        if event.type == pygame.QUIT:\n",
    "            run = False\n",
    "\n",
    "    win.fill((255, 255, 255))\n",
    "    pygame_widgets.update(events)\n",
    "    pygame.display.update()\n",
    "    \n",
    "pygame.display.quit()\n",
    "pygame.quit()"
   ]
  },
  {
   "cell_type": "code",
   "execution_count": 14,
   "id": "c5e5d3ed-2031-4a10-9d0b-c28b116890f9",
   "metadata": {},
   "outputs": [
    {
     "name": "stdout",
     "output_type": "stream",
     "text": [
      "['__annotations__', '__builtins__', '__call__', '__class__', '__closure__', '__code__', '__defaults__', '__delattr__', '__dict__', '__dir__', '__doc__', '__eq__', '__format__', '__ge__', '__get__', '__getattribute__', '__getstate__', '__globals__', '__gt__', '__hash__', '__init__', '__init_subclass__', '__kwdefaults__', '__le__', '__lt__', '__module__', '__name__', '__ne__', '__new__', '__qualname__', '__reduce__', '__reduce_ex__', '__repr__', '__setattr__', '__sizeof__', '__str__', '__subclasshook__']\n",
      "<function update at 0x70fc8f02f6a0>\n"
     ]
    }
   ],
   "source": [
    "import pygame_widgets\n",
    "print(dir(pygame_widgets.update))\n",
    "print(pygame_widgets.update)"
   ]
  },
  {
   "cell_type": "code",
   "execution_count": 2,
   "id": "893061dd-9eb0-48d5-af0e-4180d7ca0afd",
   "metadata": {},
   "outputs": [
    {
     "name": "stdout",
     "output_type": "stream",
     "text": [
      "[1, 3, 5]\n"
     ]
    }
   ],
   "source": [
    "print(n)"
   ]
  },
  {
   "cell_type": "code",
   "execution_count": null,
   "id": "9ffbeb82-1d67-4723-ba50-ba0f057da627",
   "metadata": {},
   "outputs": [],
   "source": []
  }
 ],
 "metadata": {
  "kernelspec": {
   "display_name": "Python [conda env:base] *",
   "language": "python",
   "name": "conda-base-py"
  },
  "language_info": {
   "codemirror_mode": {
    "name": "ipython",
    "version": 3
   },
   "file_extension": ".py",
   "mimetype": "text/x-python",
   "name": "python",
   "nbconvert_exporter": "python",
   "pygments_lexer": "ipython3",
   "version": "3.11.0"
  }
 },
 "nbformat": 4,
 "nbformat_minor": 5
}
