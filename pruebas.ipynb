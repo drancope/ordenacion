{
 "cells": [
  {
   "cell_type": "code",
   "execution_count": 1,
   "metadata": {},
   "outputs": [
    {
     "name": "stdout",
     "output_type": "stream",
     "text": [
      "pygame 2.5.2 (SDL 2.28.2, Python 3.11.0)\n",
      "Hello from the pygame community. https://www.pygame.org/contribute.html\n"
     ]
    }
   ],
   "source": [
    "import pygame\n",
    "import pygame_widgets"
   ]
  },
  {
   "cell_type": "code",
   "execution_count": 4,
   "metadata": {},
   "outputs": [
    {
     "name": "stdout",
     "output_type": "stream",
     "text": [
      "Click\n"
     ]
    }
   ],
   "source": [
    "from pygame_widgets.button import Button\n",
    "\n",
    "# Set up Pygame\n",
    "pygame.init()\n",
    "win = pygame.display.set_mode((600, 600))\n",
    "\n",
    "# Creates the button with optional parameters\n",
    "button = Button(\n",
    "    # Mandatory Parameters\n",
    "    win,  # Surface to place button on\n",
    "    100,  # X-coordinate of top left corner\n",
    "    100,  # Y-coordinate of top left corner\n",
    "    300,  # Width\n",
    "    150,  # Height\n",
    "\n",
    "    # Optional Parameters\n",
    "    text='Hello',  # Text to display\n",
    "    fontSize=50,  # Size of font\n",
    "    margin=20,  # Minimum distance between text/image and edge of button\n",
    "    inactiveColour=(200, 50, 0),  # Colour of button when not being interacted with\n",
    "    hoverColour=(150, 0, 0),  # Colour of button when being hovered over\n",
    "    pressedColour=(0, 200, 20),  # Colour of button when being clicked\n",
    "    radius=20,  # Radius of border corners (leave empty for not curved)\n",
    "    onClick=lambda: print('Click')  # Function to call when clicked on\n",
    ")\n",
    "\n",
    "run = True\n",
    "while run:\n",
    "    events = pygame.event.get()\n",
    "    for event in events:\n",
    "        if event.type == pygame.QUIT:\n",
    "            pygame.quit()\n",
    "            run = False\n",
    "            break\n",
    "\n",
    "    if run==False:\n",
    "        break\n",
    "    win.fill((255, 255, 255))\n",
    "\n",
    "    pygame_widgets.update(events)  # Call once every loop to allow widgets to render and listen\n",
    "    pygame.display.update()"
   ]
  }
 ],
 "metadata": {
  "kernelspec": {
   "display_name": "base",
   "language": "python",
   "name": "python3"
  },
  "language_info": {
   "codemirror_mode": {
    "name": "ipython",
    "version": 3
   },
   "file_extension": ".py",
   "mimetype": "text/x-python",
   "name": "python",
   "nbconvert_exporter": "python",
   "pygments_lexer": "ipython3",
   "version": "3.11.0"
  }
 },
 "nbformat": 4,
 "nbformat_minor": 2
}
